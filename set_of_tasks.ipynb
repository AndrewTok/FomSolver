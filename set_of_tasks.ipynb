{
 "cells": [
  {
   "cell_type": "code",
   "execution_count": 132,
   "id": "606a4a18",
   "metadata": {},
   "outputs": [],
   "source": [
    "import numpy as np\n",
    "import matplotlib.pyplot as plt"
   ]
  },
  {
   "cell_type": "code",
   "execution_count": 133,
   "id": "46e08cad",
   "metadata": {},
   "outputs": [],
   "source": [
    "import fompy\n",
    "import fompy.constants\n",
    "import fompy.functions\n",
    "import fompy.materials\n",
    "import fompy.models\n",
    "import fompy.units\n",
    "import fompy.util"
   ]
  },
  {
   "cell_type": "code",
   "execution_count": 134,
   "id": "313b99a5",
   "metadata": {},
   "outputs": [],
   "source": [
    "def split(x0, x1, func):\n",
    "    median = (x1 + x0)/2\n",
    "    sign_median = np.sign(func(median)) # get_sign(median, U, a)\n",
    "    sign_x0 = np.sign(func(x0)) # get_sign(x0, U, a)\n",
    "    sign_x1 = np.sign(func(x1)) #get_sign(x1, U, a)\n",
    "    if (sign_x0 != sign_median):\n",
    "        return (x0, median)\n",
    "    elif (sign_x1 != sign_median):\n",
    "        return (median, x1)\n",
    "    else:\n",
    "        return (x0, x1)"
   ]
  },
  {
   "cell_type": "code",
   "execution_count": 135,
   "id": "f1e9d24e",
   "metadata": {},
   "outputs": [],
   "source": [
    "# me - кг\n",
    "# T - кельв\n",
    "h = 6.6*1e-34 #СИ без черты\n",
    "h_tab = h/2/np.pi \n",
    "k = 1.38*1e-23 # СИ\n",
    "m0 = 9.1*1e-31 # СИ\n",
    "Eg = 1.12 # eV\n",
    "Jd = 50*1e-3 # eV\n",
    "Ec = Eg\n",
    "Ev = 0\n",
    "Ed = Eg - Jd\n",
    "me = 1.06*m0\n",
    "mh = 1.82*m0\n",
    "T = 300\n",
    "Nd = 1e17*1e6\n",
    "eps0 = 8.87*1e-12\n",
    "e = 1.6*1e-19\n",
    "\n",
    "\n",
    "def convert_Joule_To_eV(J):\n",
    "    return J*6.2*1e18\n",
    "\n",
    "def get_N(m, T):\n",
    "    # m - кг\n",
    "    root = 2*np.pi*m*k*T/(h)**2\n",
    "    return 2*np.power(root, 3./2.)\n",
    "\n",
    "def get_n(m, Ec, Ef, T):\n",
    "    N = get_N(m, T)\n",
    "    return N*np.exp(- (Ec - Ef)/(convert_Joule_To_eV(k*T)))\n",
    "\n",
    "def get_p(m, Ef, Ev):\n",
    "    N = get_N(m, T)\n",
    "    return N*np.exp(-(Ef - Ev)/convert_Joule_To_eV(k*T))\n",
    "\n",
    "def get_Nd_ion(Nd, Ef, Ed, T):\n",
    "    return Nd/(1 + 0.5*np.exp((Ef - Ed)/convert_Joule_To_eV(k*T)))\n",
    "\n",
    "def get_E0(me, mh, T):\n",
    "    a = (Ec + Ev)/2. + 3./4.* convert_Joule_To_eV(k*T)*np.log(me/mh)\n",
    "    return a\n",
    "\n",
    "def get_E1(Ec):\n",
    "    return Ec\n",
    "\n",
    "# ширины области обеднения\n",
    "# в СИ\n",
    "def get_W(Na, Nd, eps, delta_Ef):\n",
    "    return np.sqrt(eps*eps0*delta_Ef/e*(Nd + Na)/Nd/Na)\n",
    "\n",
    "# энергия связи в водородноподобной модели\n",
    "# eV\n",
    "def get_E_connective(m_eff, eps):\n",
    "    return 1/eps**2*m_eff/m0*13.6\n",
    "\n",
    "def find_fermi_lvl(x0, x1):\n",
    "    prec = 100\n",
    "    (curr_a, curr_b) = (x0, x1)\n",
    "    for i in range(prec):\n",
    "        (next_a, next_b) = split(curr_a, curr_b, Q_equation)\n",
    "        if (next_a == curr_a and next_b == curr_b):\n",
    "            break\n",
    "        (curr_a, curr_b) = (next_a, next_b)\n",
    "    return (curr_a + curr_b)/2.\n",
    "\n",
    "def Q_equation(Ef):\n",
    "    return get_n(me, Ec, Ef, T) - get_p(mh, Ef, Ev) - get_Nd_ion(Nd, Ef, Ed,T)"
   ]
  },
  {
   "cell_type": "code",
   "execution_count": 136,
   "id": "7708f050",
   "metadata": {},
   "outputs": [],
   "source": [
    "eps0 = 8.87*1e-12\n",
    "eps = 11.2\n",
    "k = 1.38*1e-23 \n",
    "e = 1.6*1e-19\n",
    "n0 = 1e23\n",
    "\n"
   ]
  },
  {
   "cell_type": "code",
   "execution_count": 137,
   "id": "81cb3e99",
   "metadata": {},
   "outputs": [],
   "source": [
    "T = 300"
   ]
  },
  {
   "cell_type": "code",
   "execution_count": 138,
   "id": "31d99a0b",
   "metadata": {},
   "outputs": [],
   "source": [
    "Ld = np.sqrt(eps*eps0*k*T/(e**2*n0)) # дебаевская длина экранирования"
   ]
  },
  {
   "cell_type": "code",
   "execution_count": 139,
   "id": "7b5d6041",
   "metadata": {},
   "outputs": [
    {
     "data": {
      "text/plain": [
       "1.2675088757085684e-08"
      ]
     },
     "execution_count": 139,
     "metadata": {},
     "output_type": "execute_result"
    }
   ],
   "source": [
    "Ld # в метрах"
   ]
  },
  {
   "cell_type": "code",
   "execution_count": 140,
   "id": "c369a3d6",
   "metadata": {},
   "outputs": [],
   "source": [
    "z = 1\n",
    "mu = 1\n",
    "Nd = 1e17 # пример \n",
    "L = 1\n",
    "\n",
    "\n",
    "a = 1\n",
    "Vp = e*Nd*a**2/(2*eps*eps0)\n",
    "Ip = z*mu*e**2*Nd**2*a**3/(6*eps*eps0*L)\n",
    "\n",
    "Ug = Vp/2"
   ]
  },
  {
   "cell_type": "code",
   "execution_count": 141,
   "id": "c88de6d8",
   "metadata": {},
   "outputs": [],
   "source": [
    "def get_Id(Ud):\n",
    "    return Ip*(3*Ud/Vp-2*np.power((Ud + Ug)/Vp, 3./2.) - np.power(Ug/Vp, 3./2.))"
   ]
  },
  {
   "cell_type": "code",
   "execution_count": 142,
   "id": "6feb3ea5",
   "metadata": {},
   "outputs": [],
   "source": [
    "Ud = np.linspace(0, 100, 1000)"
   ]
  },
  {
   "cell_type": "code",
   "execution_count": 143,
   "id": "7b37628a",
   "metadata": {},
   "outputs": [],
   "source": [
    "Id_arr = [get_Id(u) for u in Ud]"
   ]
  },
  {
   "cell_type": "code",
   "execution_count": 144,
   "id": "db3f2a0f",
   "metadata": {},
   "outputs": [
    {
     "data": {
      "image/png": "[encoded data removed]",
      "text/plain": [
       "<Figure size 432x288 with 1 Axes>"
      ]
     },
     "metadata": {
      "needs_background": "light"
     },
     "output_type": "display_data"
    }
   ],
   "source": [
    "plt.plot(Id_arr, Ud)\n",
    "plt.grid()"
   ]
  },
  {
   "cell_type": "code",
   "execution_count": 145,
   "id": "9eb0f099",
   "metadata": {},
   "outputs": [],
   "source": [
    "import ipywidgets as widgets"
   ]
  },
  {
   "cell_type": "code",
   "execution_count": 146,
   "id": "05bb8c6f",
   "metadata": {},
   "outputs": [
    {
     "data": {
      "application/vnd.jupyter.widget-view+json": {
       "model_id": "0e66b90743194adbb88939decc853534",
       "version_major": 2,
       "version_minor": 0
      },
      "text/plain": [
       "interactive(children=(IntSlider(value=5, description='a', max=10), Output()), _dom_classes=('widget-interact',…"
      ]
     },
     "metadata": {},
     "output_type": "display_data"
    }
   ],
   "source": [
    "@widgets.interact(a = (0, 10))\n",
    "def main(a):\n",
    "    global Ug\n",
    "    Ug = a/10.*Vp\n",
    "    Ud = np.linspace(0, Vp, 1000)\n",
    "    Id_arr = [get_Id(u) for u in Ud]\n",
    "    plt.grid()\n",
    "    plt.plot(Ud, Id_arr)"
   ]
  },
  {
   "cell_type": "code",
   "execution_count": 147,
   "id": "821cdd93",
   "metadata": {},
   "outputs": [],
   "source": [
    "def get_Ld():\n",
    "    pass"
   ]
  },
  {
   "cell_type": "code",
   "execution_count": null,
   "id": "ff7cd45b",
   "metadata": {},
   "outputs": [],
   "source": []
  },
  {
   "cell_type": "code",
   "execution_count": 148,
   "id": "ffe7080d",
   "metadata": {},
   "outputs": [],
   "source": [
    "# Ge\n",
    "def find_Eg(T):\n",
    "    return 0.742 - 4.8*1e-4*T**2/(T+235)"
   ]
  },
  {
   "cell_type": "code",
   "execution_count": 149,
   "id": "a3fb1f6a",
   "metadata": {},
   "outputs": [
    {
     "data": {
      "text/plain": [
       "0.6978620689655173"
      ]
     },
     "execution_count": 149,
     "metadata": {},
     "output_type": "execute_result"
    }
   ],
   "source": [
    "find_Eg(200)"
   ]
  },
  {
   "cell_type": "code",
   "execution_count": 150,
   "id": "cb665dd6",
   "metadata": {},
   "outputs": [],
   "source": [
    "eps = 16.2\n",
    "T = 200\n",
    "n0 = 1e23"
   ]
  },
  {
   "cell_type": "code",
   "execution_count": 151,
   "id": "5a5936cc",
   "metadata": {},
   "outputs": [],
   "source": [
    "Ld = np.sqrt(eps*eps0*k*T/(e**2*n0)) # дебаевская длина экранирования"
   ]
  },
  {
   "cell_type": "code",
   "execution_count": 152,
   "id": "7285b33b",
   "metadata": {},
   "outputs": [
    {
     "data": {
      "text/plain": [
       "1.2446690072063334e-08"
      ]
     },
     "execution_count": 152,
     "metadata": {},
     "output_type": "execute_result"
    }
   ],
   "source": [
    "Ld"
   ]
  },
  {
   "cell_type": "code",
   "execution_count": 153,
   "id": "e4fe9290",
   "metadata": {},
   "outputs": [],
   "source": [
    "# Ge\n",
    "\n",
    "# me - кг\n",
    "# T - кельв\n",
    "h = 6.6*1e-34 #СИ\n",
    "k = 1.38*1e-23 # СИ\n",
    "m0 = 9.1*1e-31 # СИ\n",
    "Eg = 0.697 # eV\n",
    "Jd =  0.010 # 50*1e-3 # eV\n",
    "Ec = Eg\n",
    "Ev = 0\n",
    "Ed = Eg - Jd\n",
    "T = 200\n",
    "Nd = 1e17*1e6\n",
    "\n",
    "me = 0.12*m0\n",
    "mh = 0.34*m0"
   ]
  },
  {
   "cell_type": "code",
   "execution_count": 154,
   "id": "b3130a9c",
   "metadata": {},
   "outputs": [
    {
     "data": {
      "text/plain": [
       "1.7969999999999997"
      ]
     },
     "execution_count": 154,
     "metadata": {},
     "output_type": "execute_result"
    }
   ],
   "source": [
    "# Ge ширина ОПЗ\n",
    "Aout = 5.1 # Au\n",
    "Ksi_e = 4.00 # Ge 300 K\n",
    "d_phi = Aout - Ksi_e + Ec\n",
    "d_phi"
   ]
  },
  {
   "cell_type": "code",
   "execution_count": 155,
   "id": "70d10a62",
   "metadata": {},
   "outputs": [],
   "source": [
    "def convert_eV_to_Joule(eV):\n",
    "    return eV/6.2/1e18"
   ]
  },
  {
   "cell_type": "code",
   "execution_count": 156,
   "id": "5dd58fcc",
   "metadata": {},
   "outputs": [],
   "source": [
    "\n",
    "n0 = 1e23\n",
    "def get_w():\n",
    "    return np.sqrt(eps*eps0*d_phi/e*(n0 + p0)/n0/p0)"
   ]
  },
  {
   "cell_type": "code",
   "execution_count": 157,
   "id": "bd2e368f",
   "metadata": {},
   "outputs": [],
   "source": [
    "# d_phi = convert_eV_to_Joule(d_phi)\n",
    "w = np.sqrt(2*eps*eps0*d_phi/e/n0)"
   ]
  },
  {
   "cell_type": "code",
   "execution_count": 158,
   "id": "863a4916",
   "metadata": {},
   "outputs": [
    {
     "data": {
      "text/plain": [
       "1.7965874526445963e-07"
      ]
     },
     "execution_count": 158,
     "metadata": {},
     "output_type": "execute_result"
    }
   ],
   "source": [
    "w"
   ]
  },
  {
   "cell_type": "code",
   "execution_count": 159,
   "id": "537774d9",
   "metadata": {},
   "outputs": [],
   "source": [
    "def convert_charge_to_sgs(charge):\n",
    "    return charge*3*1e9"
   ]
  },
  {
   "cell_type": "code",
   "execution_count": 160,
   "id": "0f289aa2",
   "metadata": {},
   "outputs": [],
   "source": [
    "Ef = 0.5160669904852276"
   ]
  },
  {
   "cell_type": "code",
   "execution_count": 161,
   "id": "77d25de0",
   "metadata": {},
   "outputs": [
    {
     "data": {
      "text/plain": [
       "1.4668010229159217e+19"
      ]
     },
     "execution_count": 161,
     "metadata": {},
     "output_type": "execute_result"
    }
   ],
   "source": [
    "get_n(me, Ec, Ef, T)"
   ]
  },
  {
   "cell_type": "code",
   "execution_count": 162,
   "id": "fd88abe4",
   "metadata": {},
   "outputs": [],
   "source": [
    "def erg_to_Ev(erg):\n",
    "    return erg*6.24*1e11"
   ]
  },
  {
   "cell_type": "code",
   "execution_count": 163,
   "id": "eda8abd1",
   "metadata": {},
   "outputs": [],
   "source": [
    "eps = 12.9\n",
    "e_sgs = convert_charge_to_sgs(e)\n",
    "Eg = h/2/np.pi*np.sqrt(4*np.pi*e_sgs**2/m0/(eps - 1)) # непр"
   ]
  },
  {
   "cell_type": "code",
   "execution_count": 164,
   "id": "627ff702",
   "metadata": {},
   "outputs": [
    {
     "data": {
      "text/plain": [
       "3.389226936599389e-17"
      ]
     },
     "execution_count": 164,
     "metadata": {},
     "output_type": "execute_result"
    }
   ],
   "source": [
    "erg_to_Ev(Eg)"
   ]
  },
  {
   "cell_type": "code",
   "execution_count": null,
   "id": "47c3dd97",
   "metadata": {},
   "outputs": [],
   "source": []
  },
  {
   "attachments": {},
   "cell_type": "markdown",
   "id": "a0e60c86",
   "metadata": {},
   "source": [
    "КР"
   ]
  },
  {
   "cell_type": "code",
   "execution_count": 189,
   "id": "6b829615",
   "metadata": {},
   "outputs": [
    {
     "name": "stdout",
     "output_type": "stream",
     "text": [
      "3.27924e-31\n",
      "3.276e-31\n",
      "7.3782900000000005e-31\n",
      "7.371000000000001e-31\n"
     ]
    }
   ],
   "source": [
    "Si = fompy.materials.Si\n",
    "Eg = fompy.units.to_unit(Si.Eg, 'eV')\n",
    "me = fompy.units.to_unit(Si.me, 'kg')\n",
    "mh = fompy.units.to_unit(Si.mh, 'kg')\n",
    "T = 200\n",
    "print(fompy.units.to_unit(Si.me, 'kg'))\n",
    "print(0.36*m0)\n",
    "print(fompy.units.to_unit(Si.mh, 'kg'))\n",
    "print(0.81*m0)\n",
    "# массы сходятся"
   ]
  },
  {
   "cell_type": "code",
   "execution_count": 222,
   "id": "014759ad",
   "metadata": {},
   "outputs": [
    {
     "name": "stdout",
     "output_type": "stream",
     "text": [
      "2.9478007828414685e+24\n",
      "2.9832621560191864e+24\n",
      "9.948827642089958e+24\n",
      "1.0068509776564757e+25\n",
      "11.7\n"
     ]
    }
   ],
   "source": [
    "print(fompy.units.to_unit(Si.Nc(T), '1/m^3'))\n",
    "Nc = get_N(me, T)\n",
    "print(Nc)\n",
    "\n",
    "print(fompy.units.to_unit(Si.Nv(T), '1/m^3'))\n",
    "Nv = get_N(mh, T)\n",
    "print(Nv)\n",
    "\n",
    "eps = Si.eps\n",
    "print(eps)"
   ]
  },
  {
   "cell_type": "code",
   "execution_count": 210,
   "id": "70a450d2",
   "metadata": {},
   "outputs": [
    {
     "name": "stdout",
     "output_type": "stream",
     "text": [
      "0.03580131636936371\n"
     ]
    }
   ],
   "source": [
    "Jd = get_E_connective(me, eps)\n",
    "print(Jd)"
   ]
  },
  {
   "cell_type": "code",
   "execution_count": 211,
   "id": "98d2abcf",
   "metadata": {},
   "outputs": [
    {
     "name": "stdout",
     "output_type": "stream",
     "text": [
      "0.08055296183106835\n"
     ]
    }
   ],
   "source": [
    "Ea = get_E_connective(mh, eps)\n",
    "print(Ea)"
   ]
  },
  {
   "cell_type": "code",
   "execution_count": 212,
   "id": "211a6706",
   "metadata": {},
   "outputs": [
    {
     "name": "stdout",
     "output_type": "stream",
     "text": [
      "1.0841986836306363\n"
     ]
    }
   ],
   "source": [
    "Ed = Eg - Jd\n",
    "print(Ed)"
   ]
  },
  {
   "cell_type": "code",
   "execution_count": 213,
   "id": "a22e391d",
   "metadata": {},
   "outputs": [],
   "source": [
    "_Ed = fompy.units.from_unit(Ed, 'eV')\n",
    "_Ea = fompy.units.from_unit(Ea, 'eV')\n",
    "Na = 5*1e16 # см-3\n",
    "Nd = 3*1e17 # см-3\n",
    "Si_n = fompy.models.DopedSemiconductor(Si, 0, 0, Nd, _Ed)\n",
    "Si_p = fompy.models.DopedSemiconductor(Si, Na,_Ea, 0, 0) "
   ]
  },
  {
   "cell_type": "code",
   "execution_count": 221,
   "id": "105cf7e9",
   "metadata": {},
   "outputs": [
    {
     "name": "stdout",
     "output_type": "stream",
     "text": [
      "1.0751234054565433\n",
      "0.09526973724365234\n"
     ]
    }
   ],
   "source": [
    "Ef_n = fompy.units.to_unit(Si_n.fermi_level(T), 'eV')\n",
    "Ef_p = fompy.units.to_unit(Si_p.fermi_level(T), 'eV')\n",
    "print(Ef_n)\n",
    "print(Ef_p)"
   ]
  },
  {
   "cell_type": "code",
   "execution_count": 215,
   "id": "658c460a",
   "metadata": {},
   "outputs": [
    {
     "name": "stdout",
     "output_type": "stream",
     "text": [
      "0.9798536682128909\n"
     ]
    }
   ],
   "source": [
    "delta = Ef_n - Ef_p\n",
    "# delta_Ef = convert_eV_to_Joule(delta)\n",
    "print(delta)\n",
    "# print(delta_Ef) "
   ]
  },
  {
   "cell_type": "code",
   "execution_count": 216,
   "id": "7f836047",
   "metadata": {},
   "outputs": [],
   "source": [
    "def get_Wn(Na, Nd, eps, delta_Ef):\n",
    "    return np.sqrt(2*eps*eps0*delta_Ef*Na/(e*Nd*(Na + Nd)))\n",
    "\n",
    "def get_Wp(Na, Nd, eps, delta_Ef):\n",
    "    return np.sqrt(2*eps*eps0*delta_Ef*Nd/(e*Na*(Na + Nd)))"
   ]
  },
  {
   "cell_type": "code",
   "execution_count": 217,
   "id": "11267303",
   "metadata": {},
   "outputs": [
    {
     "name": "stdout",
     "output_type": "stream",
     "text": [
      "1.217765745154368e-07\n"
     ]
    }
   ],
   "source": [
    "_Na = Na*1e6 # в  СИ\n",
    "_Nd = Nd*1e6 # в СИ\n",
    "W = get_W(_Na, _Nd, eps, delta) # delta в eV??\n",
    "print(W)"
   ]
  },
  {
   "cell_type": "code",
   "execution_count": 218,
   "id": "370838c7",
   "metadata": {},
   "outputs": [
    {
     "name": "stdout",
     "output_type": "stream",
     "text": [
      "1.4761549993634447e-07 2.4602583322724074e-08 1.7221808325906854e-07\n"
     ]
    }
   ],
   "source": [
    "Wp = get_Wp(_Na, _Nd, eps, delta)\n",
    "Wn = get_Wn(_Na, _Nd, eps, delta)\n",
    "print(Wp, Wn, Wn + Wp)"
   ]
  },
  {
   "cell_type": "code",
   "execution_count": 219,
   "id": "c6a6caf3",
   "metadata": {},
   "outputs": [],
   "source": [
    "# теперь ВАХ\n",
    "\n",
    "def get_ni(Nc, Nv, Eg, T):\n",
    "    return np.sqrt(Nc*Nv)*np.exp(-Eg/(2*convert_Joule_To_eV(k*T)))\n",
    "\n",
    "def get_pn0(Nd, ni):\n",
    "    return ni**2/Nd\n",
    "\n",
    "def get_np0(Na, ni):\n",
    "    return ni**2/Na"
   ]
  },
  {
   "cell_type": "code",
   "execution_count": 220,
   "id": "86c09ca8",
   "metadata": {},
   "outputs": [
    {
     "name": "stdout",
     "output_type": "stream",
     "text": [
      "33596394160.790092\n",
      "0.022574354012143413\n",
      "0.0037623923353572353\n"
     ]
    }
   ],
   "source": [
    "#_Eg = convert_eV_to_Joule(Eg)\n",
    "ni = get_ni(Nc, Nv, Eg, T)\n",
    "print(ni)\n",
    "\n",
    "np0 = get_np0(_Na, ni)\n",
    "print(np0)\n",
    "\n",
    "pn0 = get_pn0(_Nd, ni)\n",
    "print(pn0)"
   ]
  },
  {
   "cell_type": "code",
   "execution_count": 202,
   "id": "f701b337",
   "metadata": {},
   "outputs": [],
   "source": [
    "def get_J0(Dp, pn0, alpha_p, Dn, np0, alpha_n, S):\n",
    "    return e*(Dp*pn0/alpha_p + Dn*np0/alpha_n)*S\n",
    "\n",
    "def get_D(diff_length, tau):\n",
    "    return diff_length**2/tau"
   ]
  },
  {
   "cell_type": "code",
   "execution_count": 203,
   "id": "e99b85e0",
   "metadata": {},
   "outputs": [],
   "source": [
    "alpha_p = 3e-3 # см\n",
    "alpha_n = 3e-2 # см\n",
    "\n",
    "_alpha_p = alpha_p*1e-2\n",
    "_alpha_n = alpha_n*1e-2\n",
    "\n",
    "tau_n = 1e-4    \n",
    "tau_p = 1e-5"
   ]
  },
  {
   "cell_type": "code",
   "execution_count": 204,
   "id": "13c20810",
   "metadata": {},
   "outputs": [
    {
     "name": "stdout",
     "output_type": "stream",
     "text": [
      "0.0008999999999999998 8.999999999999999e-05\n"
     ]
    }
   ],
   "source": [
    "Dn = get_D(_alpha_n, tau_n)\n",
    "Dp = get_D(_alpha_p, tau_p)\n",
    "\n",
    "print(Dn, Dp)"
   ]
  },
  {
   "cell_type": "code",
   "execution_count": 205,
   "id": "d17fa06b",
   "metadata": {},
   "outputs": [
    {
     "name": "stdout",
     "output_type": "stream",
     "text": [
      "1.2641638246800313e-25\n"
     ]
    }
   ],
   "source": [
    "S = 0.1*1e-4 # м**2\n",
    "J0 = get_J0(Dp, pn0, _alpha_p, Dn, np0, _alpha_n, S)\n",
    "print(J0)"
   ]
  },
  {
   "cell_type": "code",
   "execution_count": 273,
   "id": "9347a809",
   "metadata": {},
   "outputs": [
    {
     "data": {
      "text/plain": [
       "[<matplotlib.lines.Line2D at 0x248f08c0be0>]"
      ]
     },
     "execution_count": 273,
     "metadata": {},
     "output_type": "execute_result"
    },
    {
     "data": {
      "image/png": "[encoded data removed]",
      "text/plain": [
       "<Figure size 432x288 with 1 Axes>"
      ]
     },
     "metadata": {
      "needs_background": "light"
     },
     "output_type": "display_data"
    }
   ],
   "source": [
    "U = np.linspace(0, 1.3, 100000)\n",
    "J = [J0*(np.exp(e*u/(k*T) - 1)) for u in U]\n",
    "plt.plot(U, J)"
   ]
  },
  {
   "cell_type": "code",
   "execution_count": 274,
   "id": "3dfacb02",
   "metadata": {},
   "outputs": [
    {
     "name": "stdout",
     "output_type": "stream",
     "text": [
      "46.621297622937185\n"
     ]
    }
   ],
   "source": [
    "max_Power = 50\n",
    "for i in range(len(J)):\n",
    "    if J[i]*U[i] >= max_Power:\n",
    "        print(J[i])\n",
    "        break"
   ]
  },
  {
   "cell_type": "code",
   "execution_count": null,
   "id": "d6c95abb",
   "metadata": {},
   "outputs": [],
   "source": []
  },
  {
   "cell_type": "code",
   "execution_count": null,
   "id": "89ba2861",
   "metadata": {},
   "outputs": [],
   "source": []
  },
  {
   "cell_type": "code",
   "execution_count": null,
   "id": "2c50ed6d",
   "metadata": {},
   "outputs": [],
   "source": []
  },
  {
   "attachments": {},
   "cell_type": "markdown",
   "id": "75c5fa60",
   "metadata": {},
   "source": [
    "Task 4 полевой транзистор"
   ]
  },
  {
   "cell_type": "code",
   "execution_count": 182,
   "id": "d0bcd927",
   "metadata": {},
   "outputs": [],
   "source": [
    "Nd = 1e16 # см-3\n",
    "L = 10*1e-4 # м\n",
    "z = 10*1e-4 \n",
    "a = 100*1e-7\n",
    "mobility = 1400 #  подвижность электронов. С сайта в разделе Mobility and hall effects (я тупо брал верхнюю границу)\n",
    "trans = fompy.models.JFET(Si, Nd, mobility, a, z, L)"
   ]
  },
  {
   "cell_type": "code",
   "execution_count": 183,
   "id": "463fef17",
   "metadata": {},
   "outputs": [
    {
     "data": {
      "text/plain": [
       "3.856775218960885e-09"
      ]
     },
     "execution_count": 183,
     "metadata": {},
     "output_type": "execute_result"
    }
   ],
   "source": [
    "fompy.units.to_unit(trans.Ip(), 'A')"
   ]
  },
  {
   "cell_type": "code",
   "execution_count": 184,
   "id": "9b32aa69",
   "metadata": {},
   "outputs": [
    {
     "data": {
      "text/plain": [
       "0.07732825710520502"
      ]
     },
     "execution_count": 184,
     "metadata": {},
     "output_type": "execute_result"
    }
   ],
   "source": [
    "fompy.units.to_unit(trans.Vp(), 'V')"
   ]
  },
  {
   "cell_type": "code",
   "execution_count": 185,
   "id": "b234b4b6",
   "metadata": {},
   "outputs": [],
   "source": [
    "def get_Id(Ud, Ug, Vp):\n",
    "    return Ip*(3*Ud/Vp-2*np.power((Ud + Ug)/Vp, 3./2.) - np.power(Ug/Vp, 3./2.))\n",
    "\n",
    "def get_Vp(Nd, a, eps):\n",
    "    return e*Nd*a**2/(2*eps*eps0)\n",
    "\n",
    "def get_Ip(Nd, z, mobility, a, eps, L):\n",
    "    return z*mobility*e**2*Nd**2*a**3/(6*eps*eps0*L)\n",
    "\n",
    "def plot_VAC(Vg, Vp):\n",
    "    Ud = np.linspace(0, Vp, 1000)\n",
    "    Id_arr = [get_Id(u, Vg, Vp) for u in Ud]\n",
    "    plt.grid()\n",
    "    plt.plot(Id_arr, Ud)\n",
    "    plt.xlabel(\"V\")\n",
    "    plt.ylabel(\"I\")\n",
    "    plt.show()\n"
   ]
  },
  {
   "cell_type": "code",
   "execution_count": 186,
   "id": "12c4b209",
   "metadata": {},
   "outputs": [],
   "source": [
    "z = 10*1e-6\n",
    "mu = 1400 #  подвижность электронов. С сайта в разделе Mobility and hall effects (я тупо брал верхнюю границу)\n",
    "Nd = 1e16*1e6\n",
    "L = 10*1e-6\n",
    "eps = fompy.materials.Si.eps\n",
    "\n",
    "a = 100*1e-9\n",
    "# Vp = e*Nd*a**2/(2*eps*eps0)\n",
    "# Ip = z*mu*e**2*Nd**2*a**3/(6*eps*eps0*L)\n",
    "\n",
    "Vp = get_Vp(Nd, a, eps)\n",
    "\n",
    "Ip = get_Ip(Nd, z, mu, a, eps, L)\n",
    "\n",
    "Ug = Vp/2"
   ]
  },
  {
   "cell_type": "code",
   "execution_count": 187,
   "id": "9dc1aa70",
   "metadata": {},
   "outputs": [
    {
     "name": "stdout",
     "output_type": "stream",
     "text": [
      "0.07708688655701061 0.00575582086292346\n"
     ]
    }
   ],
   "source": [
    "print(Vp, Ip)"
   ]
  },
  {
   "cell_type": "code",
   "execution_count": 188,
   "id": "5b796573",
   "metadata": {},
   "outputs": [
    {
     "data": {
      "image/png": "[encoded data removed]",
      "text/plain": [
       "<Figure size 432x288 with 1 Axes>"
      ]
     },
     "metadata": {
      "needs_background": "light"
     },
     "output_type": "display_data"
    },
    {
     "data": {
      "image/png": "[encoded data removed]",
      "text/plain": [
       "<Figure size 432x288 with 1 Axes>"
      ]
     },
     "metadata": {
      "needs_background": "light"
     },
     "output_type": "display_data"
    }
   ],
   "source": [
    "plot_VAC(Vp/2, Vp)\n",
    "plot_VAC(0, Vp)"
   ]
  },
  {
   "cell_type": "code",
   "execution_count": null,
   "id": "14495621",
   "metadata": {},
   "outputs": [],
   "source": []
  },
  {
   "cell_type": "code",
   "execution_count": null,
   "id": "b118d3c7",
   "metadata": {},
   "outputs": [],
   "source": []
  },
  {
   "cell_type": "code",
   "execution_count": null,
   "id": "f8a83407",
   "metadata": {},
   "outputs": [],
   "source": []
  },
  {
   "cell_type": "code",
   "execution_count": null,
   "id": "2bdf8c3d",
   "metadata": {},
   "outputs": [],
   "source": [
    "\n"
   ]
  }
 ],
 "metadata": {
  "kernelspec": {
   "display_name": "Python 3 (ipykernel)",
   "language": "python",
   "name": "python3"
  },
  "language_info": {
   "codemirror_mode": {
    "name": "ipython",
    "version": 3
   },
   "file_extension": ".py",
   "mimetype": "text/x-python",
   "name": "python",
   "nbconvert_exporter": "python",
   "pygments_lexer": "ipython3",
   "version": "3.10.3"
  },
  "vscode": {
   "interpreter": {
    "hash": "b4bdc8b6d7e4cad41bb05bc0e5d80002b83e761244174ed8e44a639e02848ea6"
   }
  }
 },
 "nbformat": 4,
 "nbformat_minor": 5
}
