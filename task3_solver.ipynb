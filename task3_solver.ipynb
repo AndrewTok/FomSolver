{
 "cells": [
  {
   "cell_type": "code",
   "execution_count": 20,
   "metadata": {},
   "outputs": [],
   "source": [
    "import fompy.constants\n",
    "import fompy.models\n",
    "import fompy.materials\n",
    "import fompy.units as units\n",
    "from fompy.constants import *\n",
    "from fompy.materials import Si\n",
    "import FomFunc\n",
    "import numpy as np"
   ]
  },
  {
   "cell_type": "code",
   "execution_count": 40,
   "metadata": {},
   "outputs": [
    {
     "name": "stdout",
     "output_type": "stream",
     "text": [
      "Na: 2.496773e+15, Es: 0.045, Ef: 0.227022819519043\n",
      "-0.7429456236737912\n",
      "2494619211769868.0\n",
      "ContactType.INVERSION\n",
      "Depletion zone width = 0.00006206 cm\n",
      "Schottky barrier = -0.742977 eV\n"
     ]
    }
   ],
   "source": [
    "# КДБ-5\n",
    "sem = fompy.models.DopedSemiconductor.from_materials(Si, units.from_unit(500, 'cm / V s'), 'B', units.from_unit(5, 'Ohm cm'))\n",
    "print(f'Na: {sem.Na:e}, Es: {sem.Ea / eV}, Ef: {sem.fermi_level() / eV}')\n",
    "\n",
    "ms = fompy.models.MSJunction(fompy.models.Metal(4.2 * eV), sem)\n",
    "df = 0.75\n",
    "print(units.to_unit(ms.delta_phi(), 'V'))\n",
    "n = sem.p_concentration()\n",
    "print(sem.p_concentration())\n",
    "print(ms.contact_type())\n",
    "print(f'Depletion zone width = %.8f cm' % (fompy.models.depletion_width(Si.eps, n, np.abs(ms.delta_phi()))))\n",
    "electron_affinity = 4.05 * eV\n",
    "Asi = 1.12*eV + electron_affinity - sem.fermi_level()\n",
    "print(f'Schottky barrier = %f eV' % (4.2 - Asi / eV))"
   ]
  },
  {
   "cell_type": "code",
   "execution_count": 41,
   "metadata": {},
   "outputs": [
    {
     "name": "stdout",
     "output_type": "stream",
     "text": [
      "Na: 1.248386e+16, Es: 0.045, Ef: 0.18548488616943357\n"
     ]
    }
   ],
   "source": [
    "# КДБ-1\n",
    "sem = fompy.models.DopedSemiconductor.from_materials(Si, units.from_unit(500, 'cm / V s'), 'B', units.from_unit(1, 'Ohm cm'))\n",
    "print(f'Na: {sem.Na:e}, Es: {sem.Ea / eV}, Ef: {sem.fermi_level() / eV}')"
   ]
  },
  {
   "cell_type": "code",
   "execution_count": 42,
   "metadata": {},
   "outputs": [
    {
     "name": "stdout",
     "output_type": "stream",
     "text": [
      "4.984515113830566\n",
      "-0.7845151138305662\n"
     ]
    }
   ],
   "source": [
    "A_out = 4.2 # eV\n",
    "Ef = sem.fermi_level() / eV\n",
    "electron_affinity = 4.05 # eV\n",
    "Eg = 1.12 # eV\n",
    "sem_pot = electron_affinity + Eg - Ef\n",
    "\n",
    "print(sem_pot)\n",
    "\n",
    "delta_phi = A_out - sem_pot\n",
    "print(delta_phi)"
   ]
  },
  {
   "cell_type": "code",
   "execution_count": 43,
   "metadata": {},
   "outputs": [
    {
     "name": "stdout",
     "output_type": "stream",
     "text": [
      "1.25e+16\n",
      "1.2429749707784116e+16\n"
     ]
    }
   ],
   "source": [
    "mobility = 500\n",
    "resist = 1\n",
    "eps = Si.eps\n",
    "n = 1/(FomFunc.Constants.e*resist*mobility) # см-3\n",
    "print(n)\n",
    "_n = n*1e6\n",
    "print(sem.p_concentration())"
   ]
  },
  {
   "cell_type": "code",
   "execution_count": 44,
   "metadata": {},
   "outputs": [
    {
     "name": "stdout",
     "output_type": "stream",
     "text": [
      "2.853352309095782e-07\n"
     ]
    }
   ],
   "source": [
    "w = np.sqrt(2*FomFunc.Constants.eps0*eps*np.abs(delta_phi)/(FomFunc.Constants.e*_n))\n",
    "print(w)"
   ]
  },
  {
   "cell_type": "code",
   "execution_count": 45,
   "metadata": {},
   "outputs": [
    {
     "name": "stdout",
     "output_type": "stream",
     "text": [
      "2.8488351343957667e-05\n"
     ]
    }
   ],
   "source": [
    "ms = fompy.models.MSJunction(fompy.models.Metal(A_out * eV), sem)\n",
    "print(fompy.models.depletion_width(Si.eps, n, np.abs(ms.delta_phi())))"
   ]
  },
  {
   "cell_type": "code",
   "execution_count": null,
   "metadata": {},
   "outputs": [],
   "source": []
  },
  {
   "cell_type": "code",
   "execution_count": null,
   "metadata": {},
   "outputs": [],
   "source": []
  }
 ],
 "metadata": {
  "kernelspec": {
   "display_name": "Python 3",
   "language": "python",
   "name": "python3"
  },
  "language_info": {
   "codemirror_mode": {
    "name": "ipython",
    "version": 3
   },
   "file_extension": ".py",
   "mimetype": "text/x-python",
   "name": "python",
   "nbconvert_exporter": "python",
   "pygments_lexer": "ipython3",
   "version": "3.10.3"
  },
  "orig_nbformat": 4,
  "vscode": {
   "interpreter": {
    "hash": "b4bdc8b6d7e4cad41bb05bc0e5d80002b83e761244174ed8e44a639e02848ea6"
   }
  }
 },
 "nbformat": 4,
 "nbformat_minor": 2
}
