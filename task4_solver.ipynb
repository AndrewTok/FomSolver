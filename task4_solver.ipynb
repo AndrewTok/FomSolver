{
 "cells": [
  {
   "cell_type": "code",
   "execution_count": 1,
   "metadata": {},
   "outputs": [],
   "source": [
    "import FomFunc\n",
    "import fompy.materials"
   ]
  },
  {
   "cell_type": "code",
   "execution_count": 10,
   "metadata": {},
   "outputs": [
    {
     "name": "stdout",
     "output_type": "stream",
     "text": [
      "0.07708688655701061 Joule??\n",
      "0.00575582086292346 A\n"
     ]
    }
   ],
   "source": [
    "# входные данные в СИ\n",
    "z = 10*1e-6\n",
    "mu = 1400 #  подвижность электронов. С сайта в разделе Mobility and hall effects (я тупо брал верхнюю границу)\n",
    "Nd = 1e16*1e6\n",
    "L = 10*1e-6\n",
    "eps = fompy.materials.Si.eps\n",
    "\n",
    "a = 100*1e-9\n",
    "# Vp = e*Nd*a**2/(2*eps*eps0)\n",
    "# Ip = z*mu*e**2*Nd**2*a**3/(6*eps*eps0*L)\n",
    "\n",
    "Vp = FomFunc.get_Vp(Nd, a, eps)\n",
    "\n",
    "Ip = FomFunc.get_Ip(Nd, z, mu, a, eps, L)\n",
    "\n",
    "Ug = Vp/2\n",
    "\n",
    "print(Vp,'Joule??') # вроде Джоули но хуй бы знал\n",
    "print(Ip, 'A') # ток точно збс, спрашивал на семинаре"
   ]
  },
  {
   "cell_type": "code",
   "execution_count": null,
   "metadata": {},
   "outputs": [],
   "source": []
  },
  {
   "cell_type": "code",
   "execution_count": null,
   "metadata": {},
   "outputs": [],
   "source": []
  },
  {
   "cell_type": "code",
   "execution_count": null,
   "metadata": {},
   "outputs": [],
   "source": []
  },
  {
   "cell_type": "code",
   "execution_count": null,
   "metadata": {},
   "outputs": [],
   "source": []
  },
  {
   "cell_type": "code",
   "execution_count": null,
   "metadata": {},
   "outputs": [],
   "source": []
  },
  {
   "cell_type": "code",
   "execution_count": null,
   "metadata": {},
   "outputs": [],
   "source": []
  },
  {
   "cell_type": "code",
   "execution_count": null,
   "metadata": {},
   "outputs": [],
   "source": []
  }
 ],
 "metadata": {
  "kernelspec": {
   "display_name": "Python 3",
   "language": "python",
   "name": "python3"
  },
  "language_info": {
   "codemirror_mode": {
    "name": "ipython",
    "version": 3
   },
   "file_extension": ".py",
   "mimetype": "text/x-python",
   "name": "python",
   "nbconvert_exporter": "python",
   "pygments_lexer": "ipython3",
   "version": "3.10.3"
  },
  "orig_nbformat": 4,
  "vscode": {
   "interpreter": {
    "hash": "b4bdc8b6d7e4cad41bb05bc0e5d80002b83e761244174ed8e44a639e02848ea6"
   }
  }
 },
 "nbformat": 4,
 "nbformat_minor": 2
}
