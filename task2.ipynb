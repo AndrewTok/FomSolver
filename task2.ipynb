{
 "cells": [
  {
   "cell_type": "code",
   "execution_count": 15,
   "id": "9548e9f2",
   "metadata": {},
   "outputs": [],
   "source": [
    "import numpy as np\n",
    "import matplotlib.pyplot as plt\n",
    "import math\n",
    "from scipy.misc import derivative"
   ]
  },
  {
   "cell_type": "code",
   "execution_count": 16,
   "id": "444e3841",
   "metadata": {},
   "outputs": [],
   "source": [
    "n = 100\n",
    "x = np.array([i for i in range(n)])"
   ]
  },
  {
   "cell_type": "code",
   "execution_count": 17,
   "id": "164fb807",
   "metadata": {},
   "outputs": [],
   "source": [
    "U = 50\n",
    "a = 1\n",
    "eps = 0.00001\n",
    "def f(E, U = 1, a = 1):\n",
    "    return np.tan(np.sqrt(2*(U - E))*a) - np.sqrt(E/(U - E))"
   ]
  },
  {
   "cell_type": "code",
   "execution_count": 18,
   "id": "26e246c1",
   "metadata": {},
   "outputs": [],
   "source": [
    "def find_asymptote(k = 0):\n",
    "    return np.abs(U - math.pow(math.pi*k + math.pi/2.0, 2) * 1.0 / (2* math.pow(a, 2)))"
   ]
  },
  {
   "cell_type": "code",
   "execution_count": 19,
   "id": "7fa3e449",
   "metadata": {},
   "outputs": [],
   "source": [
    "def plot_res_E(res, E, n, style = '-'):\n",
    "    plt.grid()\n",
    "    plt.ylim(-10, 10)\n",
    "    plt.plot(E[:n], res[:n], style)"
   ]
  },
  {
   "cell_type": "code",
   "execution_count": 20,
   "id": "9e4acbc5",
   "metadata": {
    "scrolled": true
   },
   "outputs": [
    {
     "data": {
      "text/plain": [
       "[<matplotlib.lines.Line2D at 0x23e7fb01210>]"
      ]
     },
     "execution_count": 20,
     "metadata": {},
     "output_type": "execute_result"
    },
    {
     "data": {
      "image/png": "[encoded data removed]",
      "text/plain": [
       "<Figure size 432x288 with 1 Axes>"
      ]
     },
     "metadata": {
      "needs_background": "light"
     },
     "output_type": "display_data"
    }
   ],
   "source": [
    "E = np.linspace(eps, U-eps*U, n) #[i for i in range(U)]\n",
    "E = np.flip(E)\n",
    "res = [f(e, U) for e in E]\n",
    "plot_res_E(res, E,n)\n",
    "plt.plot(np.full(10, find_asymptote(1)), np.linspace(-10, 10, 10), 'r')"
   ]
  },
  {
   "cell_type": "markdown",
   "id": "9a80335e",
   "metadata": {},
   "source": [
    "# Метод дихотомии"
   ]
  },
  {
   "cell_type": "code",
   "execution_count": 21,
   "id": "95a0874d",
   "metadata": {},
   "outputs": [],
   "source": [
    "def get_sign(x, U, a = 1):\n",
    "    return f(x, U, a) > 0"
   ]
  },
  {
   "cell_type": "code",
   "execution_count": 22,
   "id": "32b73013",
   "metadata": {},
   "outputs": [],
   "source": [
    "def split_segment(x0, x1, U, a = 1):\n",
    "    median = (x1 + x0)/2\n",
    "    sign_median = get_sign(median, U, a)\n",
    "    sign_x0 = get_sign(x0, U, a)\n",
    "    sign_x1 = get_sign(x1, U, a)\n",
    "    if (sign_x0 != sign_median):\n",
    "        return (x0, median)\n",
    "    elif (sign_x1 != sign_median):\n",
    "        return (median, x1)\n",
    "    else:\n",
    "        return (x0, x1)"
   ]
  },
  {
   "cell_type": "code",
   "execution_count": 88,
   "id": "49cfc185",
   "metadata": {},
   "outputs": [],
   "source": [
    "def split(x0, x1, func):\n",
    "    median = (x1 + x0)/2\n",
    "    sign_median = np.sign(func(median)) # get_sign(median, U, a)\n",
    "    sign_x0 = np.sign(func(x0)) # get_sign(x0, U, a)\n",
    "    sign_x1 = np.sign(func(x1)) #get_sign(x1, U, a)\n",
    "    if (sign_x0 != sign_median):\n",
    "        return (x0, median)\n",
    "    elif (sign_x1 != sign_median):\n",
    "        return (median, x1)\n",
    "    else:\n",
    "        return (x0, x1)"
   ]
  },
  {
   "cell_type": "code",
   "execution_count": 89,
   "id": "527f840b",
   "metadata": {},
   "outputs": [],
   "source": [
    "def find_x(x0, x1):\n",
    "    prec = 1000\n",
    "    (curr_a, curr_b) = (x0, x1)#find_x0_x1(E, U)\n",
    "    for i in range(prec):\n",
    "        (next_a, next_b) = split_segment(curr_a, curr_b, U)\n",
    "        if (next_a == curr_a and next_b == curr_b):\n",
    "            break\n",
    "        (curr_a, curr_b) = (next_a, next_b)\n",
    "    return (curr_a + curr_b)/2."
   ]
  },
  {
   "cell_type": "code",
   "execution_count": 90,
   "id": "44cc2d27",
   "metadata": {},
   "outputs": [],
   "source": [
    "prec = 100\n",
    "(curr_a, curr_b) = (E[0], find_asymptote(1))#find_x0_x1(E, U)\n",
    "for i in range(prec):\n",
    "    (next_a, next_b) = split_segment(curr_a, curr_b, U)\n",
    "    if (next_a == curr_a and next_b == curr_b):\n",
    "        break\n",
    "    (curr_a, curr_b) = (next_a, next_b)"
   ]
  },
  {
   "cell_type": "code",
   "execution_count": 91,
   "id": "6fa36d1d",
   "metadata": {},
   "outputs": [
    {
     "data": {
      "text/plain": [
       "(40.87887230842403, 40.87887230842402)"
      ]
     },
     "execution_count": 91,
     "metadata": {},
     "output_type": "execute_result"
    }
   ],
   "source": [
    "(curr_a, curr_b)"
   ]
  },
  {
   "cell_type": "code",
   "execution_count": 92,
   "id": "f4d86680",
   "metadata": {},
   "outputs": [
    {
     "data": {
      "text/plain": [
       "[<matplotlib.lines.Line2D at 0x23e7fd67010>]"
      ]
     },
     "execution_count": 92,
     "metadata": {},
     "output_type": "execute_result"
    },
    {
     "data": {
      "image/png": "[encoded data removed]",
      "text/plain": [
       "<Figure size 432x288 with 1 Axes>"
      ]
     },
     "metadata": {
      "needs_background": "light"
     },
     "output_type": "display_data"
    }
   ],
   "source": [
    "plot_res_E(res, E, n)\n",
    "plt.plot(curr_a, 0, \"ro\")\n",
    "# plt.plot(curr_b, 0, 'bo')"
   ]
  },
  {
   "cell_type": "markdown",
   "id": "1a47d147",
   "metadata": {},
   "source": [
    "ФОМЭ"
   ]
  },
  {
   "cell_type": "code",
   "execution_count": 142,
   "id": "9f33ce8d",
   "metadata": {},
   "outputs": [],
   "source": [
    "# me - кг\n",
    "# T - кельв\n",
    "h = 6.6*1e-34 #СИ\n",
    "k = 1.38*1e-23 # СИ\n",
    "m0 = 9.1*1e-31 # СИ\n",
    "Eg = 1.12 # eV\n",
    "Jd = 50*1e-3 # eV\n",
    "Ec = Eg\n",
    "Ev = 0\n",
    "Ed = Eg - Jd\n",
    "me = 1.06*m0\n",
    "mh = 1.82*m0\n",
    "T = 300\n",
    "Nd = 1e17*1e6\n",
    "\n",
    "\n",
    "\n",
    "def convert_Joule_To_eV(J):\n",
    "    return J*6.2*1e18\n",
    "\n",
    "def get_N(m, T):\n",
    "    # m - кг\n",
    "    root = 2*np.pi*m*k*T/(h)**2\n",
    "    return 2*np.power(root, 3./2.)\n",
    "\n",
    "def get_n(m, Ec, Ef, T):\n",
    "    N = get_N(m, T)\n",
    "    return N*np.exp(- (Ec - Ef)/(convert_Joule_To_eV(k*T)))\n",
    "\n",
    "def get_p(m, Ef, Ev):\n",
    "    N = get_N(m, T)\n",
    "    return N*np.exp(-(Ef - Ev)/convert_Joule_To_eV(k*T))\n",
    "\n",
    "def get_Nd_ion(Nd, Ef, Ed, T):\n",
    "    return Nd/(1 + 0.5*np.exp((Ef - Ed)/convert_Joule_To_eV(k*T)))\n",
    "\n",
    "def get_E0(me, mh, T):\n",
    "    a = (Ec + Ev)/2. + 3./4.* convert_Joule_To_eV(k*T)*np.log(me/mh)\n",
    "    return a\n",
    "\n",
    "def get_E1(Ec):\n",
    "    return Ec\n"
   ]
  },
  {
   "cell_type": "code",
   "execution_count": 143,
   "id": "f7e8e877",
   "metadata": {},
   "outputs": [
    {
     "name": "stdout",
     "output_type": "stream",
     "text": [
      "2.762744720204961e+25\n",
      "-1.0000002500006637e+23\n"
     ]
    }
   ],
   "source": [
    "def Q_equation(Ef):\n",
    "    return get_n(me, Ec, Ef, T) - get_p(mh, Ef, Ev) - get_Nd_ion(Nd, Ef, Ed,T)\n",
    "print(Q_equation(get_E1(Ec)))\n",
    "print(Q_equation(get_E0(me, mh, T)))"
   ]
  },
  {
   "cell_type": "code",
   "execution_count": 144,
   "id": "4588a973",
   "metadata": {},
   "outputs": [],
   "source": [
    "def find_fermi_lvl(x0, x1):\n",
    "    prec = 100\n",
    "    (curr_a, curr_b) = (x0, x1)\n",
    "    for i in range(prec):\n",
    "        (next_a, next_b) = split(curr_a, curr_b, Q_equation)\n",
    "        if (next_a == curr_a and next_b == curr_b):\n",
    "            break\n",
    "        (curr_a, curr_b) = (next_a, next_b)\n",
    "    return (curr_a + curr_b)/2."
   ]
  },
  {
   "cell_type": "code",
   "execution_count": 145,
   "id": "3d2dd70f",
   "metadata": {},
   "outputs": [
    {
     "data": {
      "text/plain": [
       "0.9753698784565983"
      ]
     },
     "execution_count": 145,
     "metadata": {},
     "output_type": "execute_result"
    }
   ],
   "source": [
    "x = find_fermi_lvl(get_E0(me, mh, T), get_E1(Ec))\n",
    "x"
   ]
  },
  {
   "cell_type": "code",
   "execution_count": 182,
   "id": "b8a3bc47",
   "metadata": {},
   "outputs": [],
   "source": [
    "# Ge\n",
    "\n",
    "# me - кг\n",
    "# T - кельв\n",
    "h = 6.6*1e-34 #СИ\n",
    "k = 1.38*1e-23 # СИ\n",
    "m0 = 9.1*1e-31 # СИ\n",
    "Eg = 0.661 # eV\n",
    "Jd = 0.010 # 50*1e-3 # eV\n",
    "Ec = Eg\n",
    "Ev = 0\n",
    "Ed = Eg - Jd\n",
    "T = 300\n",
    "Nd = 1e17 #*1e6\n",
    "\n",
    "me = 0.22*m0\n",
    "mh = 0.34*m0"
   ]
  },
  {
   "cell_type": "code",
   "execution_count": 183,
   "id": "f235d768",
   "metadata": {},
   "outputs": [
    {
     "data": {
      "text/plain": [
       "2.002e-31"
      ]
     },
     "execution_count": 183,
     "metadata": {},
     "output_type": "execute_result"
    }
   ],
   "source": [
    "me"
   ]
  },
  {
   "cell_type": "code",
   "execution_count": 184,
   "id": "e2a1dadb",
   "metadata": {},
   "outputs": [
    {
     "data": {
      "text/plain": [
       "3.094e-31"
      ]
     },
     "execution_count": 184,
     "metadata": {},
     "output_type": "execute_result"
    }
   ],
   "source": [
    "mh"
   ]
  },
  {
   "cell_type": "code",
   "execution_count": 185,
   "id": "5a44b101",
   "metadata": {},
   "outputs": [
    {
     "data": {
      "text/plain": [
       "0.339018715166996"
      ]
     },
     "execution_count": 185,
     "metadata": {},
     "output_type": "execute_result"
    }
   ],
   "source": [
    "x = find_fermi_lvl(get_E0(me, mh, T), get_E1(Ec))\n",
    "x"
   ]
  },
  {
   "cell_type": "markdown",
   "id": "8e1be1ff",
   "metadata": {},
   "source": [
    "# Метод простых итераций"
   ]
  },
  {
   "cell_type": "code",
   "execution_count": 75,
   "id": "54176275",
   "metadata": {},
   "outputs": [],
   "source": [
    "def get_next(x, phi):\n",
    "    return phi(x)"
   ]
  },
  {
   "cell_type": "code",
   "execution_count": 156,
   "id": "c3b210f9",
   "metadata": {},
   "outputs": [],
   "source": [
    "f1 = lambda x : f(x, U)\n",
    "x0 = (find_asymptote(1) + find_asymptote(0))/2.0\n",
    "l = -1/derivative(f1, x0, dx = eps / 100)\n",
    "def phi_1(x):\n",
    "    return x +  0.07* f(x,U) # 0.0007*"
   ]
  },
  {
   "cell_type": "code",
   "execution_count": 157,
   "id": "024fb8eb",
   "metadata": {},
   "outputs": [],
   "source": [
    "def check_df_dx(phi, x):\n",
    "    return np.abs(derivative(phi, x, dx = eps / 100))"
   ]
  },
  {
   "cell_type": "code",
   "execution_count": 158,
   "id": "8f1f91e0",
   "metadata": {},
   "outputs": [
    {
     "data": {
      "text/plain": [
       "3.965904631572647"
      ]
     },
     "execution_count": 158,
     "metadata": {},
     "output_type": "execute_result"
    }
   ],
   "source": [
    "check_df_dx(phi_1, eps/10)"
   ]
  },
  {
   "cell_type": "code",
   "execution_count": 159,
   "id": "b1dc5117",
   "metadata": {},
   "outputs": [],
   "source": [
    "#xs = []\n",
    "def find_x(eps, E, phi):\n",
    "    n = 0\n",
    "    x0 = (find_asymptote(1) + find_asymptote(0))/2.0\n",
    "    N_max = 100000\n",
    "    for i in range(N_max):\n",
    "        x1 = get_next(x0, phi)\n",
    "        x2 = get_next(x1, phi)\n",
    "        if (need_to_stop(x0, x1, x2, eps)):\n",
    "            break\n",
    "        n += 1\n",
    "        x0 = x1\n",
    "        #xs.append(x0)\n",
    "    print(n)\n",
    "    return x1"
   ]
  },
  {
   "cell_type": "code",
   "execution_count": 160,
   "id": "75a837a5",
   "metadata": {},
   "outputs": [],
   "source": [
    "def need_to_stop(x_n_0, x_n_1, x_n_2, eps):\n",
    "#     diff_2 = x_n_2 - x_n_1\n",
    "#     diff_1 = x_n_1 - x_n_0\n",
    "#     return np.abs(diff_2/(1 - diff_2/diff_1)) <= eps\n",
    "   return np.abs(x_n_1 - x_n_2) <= eps and x_n_1 != x_n_2"
   ]
  },
  {
   "cell_type": "code",
   "execution_count": 161,
   "id": "1950c16f",
   "metadata": {},
   "outputs": [
    {
     "name": "stdout",
     "output_type": "stream",
     "text": [
      "108\n"
     ]
    },
    {
     "data": {
      "text/plain": [
       "40.878968407121725"
      ]
     },
     "execution_count": 161,
     "metadata": {},
     "output_type": "execute_result"
    }
   ],
   "source": [
    "#eps = 0.1\n",
    "x = find_x(eps, E, phi_1)\n",
    "x"
   ]
  },
  {
   "cell_type": "code",
   "execution_count": 162,
   "id": "61ad5b66",
   "metadata": {},
   "outputs": [
    {
     "data": {
      "text/plain": [
       "[<matplotlib.lines.Line2D at 0x1ef1c18ea10>]"
      ]
     },
     "execution_count": 162,
     "metadata": {},
     "output_type": "execute_result"
    },
    {
     "data": {
      "image/png": "[encoded data removed]",
      "text/plain": [
       "<Figure size 432x288 with 1 Axes>"
      ]
     },
     "metadata": {
      "needs_background": "light"
     },
     "output_type": "display_data"
    }
   ],
   "source": [
    "plot_res_E(res, E, n)\n",
    "#plt.plot(xs, np.zeros(len(xs)), 'ro')\n",
    "plt.plot(x, 0, 'ro')"
   ]
  },
  {
   "cell_type": "code",
   "execution_count": null,
   "id": "322cabbc",
   "metadata": {},
   "outputs": [],
   "source": []
  },
  {
   "cell_type": "markdown",
   "id": "1797bbe5",
   "metadata": {},
   "source": [
    "# Метод Ньютона"
   ]
  },
  {
   "cell_type": "code",
   "execution_count": 20,
   "id": "0e955bf8",
   "metadata": {},
   "outputs": [],
   "source": [
    "def df(E, U, a = 1):\n",
    "    diff = U - E\n",
    "    return -1/np.power(np.cos(np.sqrt(2*diff)*a), 2)*a/np.sqrt(2*diff) - U/(2*np.sqrt(E))/(np.power(diff, 3./2.))"
   ]
  },
  {
   "cell_type": "code",
   "execution_count": 21,
   "id": "e9f69837",
   "metadata": {},
   "outputs": [
    {
     "data": {
      "text/plain": [
       "[<matplotlib.lines.Line2D at 0x1ef1a18c970>]"
      ]
     },
     "execution_count": 21,
     "metadata": {},
     "output_type": "execute_result"
    },
    {
     "data": {
      "image/png": "[encoded data removed]",
      "text/plain": [
       "<Figure size 432x288 with 1 Axes>"
      ]
     },
     "metadata": {
      "needs_background": "light"
     },
     "output_type": "display_data"
    }
   ],
   "source": [
    "df_res = [df(e, U) for e in E]\n",
    "df_res.reverse()\n",
    "plt.grid(True)\n",
    "#условие сходимости для Ньютона \n",
    "plt.plot(df_res[:n//10], '.')"
   ]
  },
  {
   "cell_type": "code",
   "execution_count": 22,
   "id": "9e358537",
   "metadata": {},
   "outputs": [],
   "source": [
    "def get_next_x(x_n, U, a = 1):\n",
    "    return x_n - f(x_n, U, a)/df(x_n, U, a)"
   ]
  },
  {
   "cell_type": "code",
   "execution_count": 85,
   "id": "8837a890",
   "metadata": {},
   "outputs": [
    {
     "name": "stdout",
     "output_type": "stream",
     "text": [
      "5\n"
     ]
    },
    {
     "data": {
      "text/plain": [
       "40.87887230837137"
      ]
     },
     "execution_count": 85,
     "metadata": {},
     "output_type": "execute_result"
    }
   ],
   "source": [
    "#eps = 0.001\n",
    "def phi(x):\n",
    "    return get_next_x(x, U)\n",
    "x = find_x(eps, E, phi)\n",
    "x"
   ]
  },
  {
   "cell_type": "code",
   "execution_count": 63,
   "id": "795f9f5e",
   "metadata": {},
   "outputs": [],
   "source": [
    "def get_Newton_cond(f, x):\n",
    "    #d1 = derivative(f, x, dx = eps / 10, n = 1)\n",
    "    #d2 = derivative(f, x, dx = eps / 10, n = 2)\n",
    "    #return np.abs(f(x)*d2/d1**2)\n",
    "    return derivative(f, x, dx = eps / 10, n = 2)"
   ]
  },
  {
   "cell_type": "code",
   "execution_count": 64,
   "id": "1ec85b11",
   "metadata": {},
   "outputs": [
    {
     "data": {
      "text/plain": [
       "18753.85012511277"
      ]
     },
     "execution_count": 64,
     "metadata": {},
     "output_type": "execute_result"
    }
   ],
   "source": [
    "get_Newton_cond(f, eps/10)"
   ]
  },
  {
   "cell_type": "code",
   "execution_count": 65,
   "id": "4f1e2e37",
   "metadata": {},
   "outputs": [
    {
     "data": {
      "text/plain": [
       "[<matplotlib.lines.Line2D at 0x1ef1b464670>]"
      ]
     },
     "execution_count": 65,
     "metadata": {},
     "output_type": "execute_result"
    },
    {
     "data": {
      "image/png": "[encoded data removed]",
      "text/plain": [
       "<Figure size 432x288 with 1 Axes>"
      ]
     },
     "metadata": {
      "needs_background": "light"
     },
     "output_type": "display_data"
    }
   ],
   "source": [
    "plot_res_E(res, E, n)\n",
    "plt.plot(x, 0, 'ro')"
   ]
  },
  {
   "cell_type": "code",
   "execution_count": null,
   "id": "e529ca4c",
   "metadata": {},
   "outputs": [],
   "source": []
  },
  {
   "cell_type": "code",
   "execution_count": null,
   "id": "adc4cc3c",
   "metadata": {},
   "outputs": [],
   "source": []
  }
 ],
 "metadata": {
  "kernelspec": {
   "display_name": "Python 3 (ipykernel)",
   "language": "python",
   "name": "python3"
  },
  "language_info": {
   "codemirror_mode": {
    "name": "ipython",
    "version": 3
   },
   "file_extension": ".py",
   "mimetype": "text/x-python",
   "name": "python",
   "nbconvert_exporter": "python",
   "pygments_lexer": "ipython3",
   "version": "3.10.3 (tags/v3.10.3:a342a49, Mar 16 2022, 13:07:40) [MSC v.1929 64 bit (AMD64)]"
  },
  "vscode": {
   "interpreter": {
    "hash": "b4bdc8b6d7e4cad41bb05bc0e5d80002b83e761244174ed8e44a639e02848ea6"
   }
  }
 },
 "nbformat": 4,
 "nbformat_minor": 5
}
