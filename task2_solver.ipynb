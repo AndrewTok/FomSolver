{
 "cells": [
  {
   "cell_type": "code",
   "execution_count": 1,
   "metadata": {},
   "outputs": [],
   "source": [
    "import FomFunc\n",
    "import fompy.materials\n",
    "import fompy.models\n",
    "import fompy.units\n",
    "import numpy as np\n",
    "import matplotlib.pyplot as plt"
   ]
  },
  {
   "cell_type": "code",
   "execution_count": 2,
   "metadata": {},
   "outputs": [
    {
     "name": "stdout",
     "output_type": "stream",
     "text": [
      "3.27924e-31\n",
      "3.276e-31\n",
      "7.3782900000000005e-31\n",
      "7.371000000000001e-31\n"
     ]
    }
   ],
   "source": [
    "Si = fompy.materials.Si\n",
    "Eg = fompy.units.to_unit(Si.Eg, 'eV')\n",
    "me = fompy.units.to_unit(Si.me, 'kg')\n",
    "mh = fompy.units.to_unit(Si.mh, 'kg')\n",
    "T = 200\n",
    "Eg = 1.12\n",
    "print(fompy.units.to_unit(Si.me, 'kg'))\n",
    "print(0.36*FomFunc.Constants.m0)\n",
    "print(fompy.units.to_unit(Si.mh, 'kg'))\n",
    "print(0.81*FomFunc.Constants.m0)\n",
    "# массы сходятся"
   ]
  },
  {
   "cell_type": "code",
   "execution_count": 3,
   "metadata": {},
   "outputs": [
    {
     "name": "stdout",
     "output_type": "stream",
     "text": [
      "2.9478007828414685e+24\n",
      "2.9832621560191864e+24\n",
      "9.948827642089958e+24\n",
      "1.0068509776564757e+25\n",
      "11.7\n"
     ]
    }
   ],
   "source": [
    "print(fompy.units.to_unit(Si.Nc(T), '1/m^3'))\n",
    "Nc = FomFunc.get_N(me, T)\n",
    "print(Nc)\n",
    "\n",
    "print(fompy.units.to_unit(Si.Nv(T), '1/m^3'))\n",
    "Nv = FomFunc.get_N(mh, T)\n",
    "print(Nv)\n",
    "\n",
    "eps = Si.eps\n",
    "print(eps)"
   ]
  },
  {
   "cell_type": "code",
   "execution_count": 4,
   "metadata": {},
   "outputs": [
    {
     "name": "stdout",
     "output_type": "stream",
     "text": [
      "0.03580131636936371\n"
     ]
    }
   ],
   "source": [
    "Jd = FomFunc.get_E_connective(me, eps)\n",
    "print(Jd)"
   ]
  },
  {
   "cell_type": "code",
   "execution_count": 5,
   "metadata": {},
   "outputs": [
    {
     "name": "stdout",
     "output_type": "stream",
     "text": [
      "0.08055296183106835\n"
     ]
    }
   ],
   "source": [
    "Ea = FomFunc.get_E_connective(mh, eps)\n",
    "print(Ea)"
   ]
  },
  {
   "cell_type": "code",
   "execution_count": 6,
   "metadata": {},
   "outputs": [
    {
     "name": "stdout",
     "output_type": "stream",
     "text": [
      "1.0841986836306363\n"
     ]
    }
   ],
   "source": [
    "Ed = Eg - Jd\n",
    "print(Ed)"
   ]
  },
  {
   "cell_type": "code",
   "execution_count": 21,
   "metadata": {},
   "outputs": [
    {
     "name": "stdout",
     "output_type": "stream",
     "text": [
      "1.2904584485337148e-13 1.7368862911762794e-12\n"
     ]
    }
   ],
   "source": [
    "_Ed = fompy.units.from_unit(Ed, 'eV')\n",
    "_Ea = fompy.units.from_unit(Ea, 'eV')\n",
    "print(_Ea, _Ed)\n",
    "Na = 2*1e16 # см-3\n",
    "Nd = 1e17 # см-3\n",
    "Si_n = fompy.models.DopedSemiconductor(Si, 0, 0, Nd, _Ed)\n",
    "Si_p = fompy.models.DopedSemiconductor(Si, Na,_Ea, 0, 0) "
   ]
  },
  {
   "cell_type": "code",
   "execution_count": 8,
   "metadata": {},
   "outputs": [
    {
     "name": "stdout",
     "output_type": "stream",
     "text": [
      "1.060120658874512\n",
      "0.10813518524169922\n"
     ]
    }
   ],
   "source": [
    "Ef_n = fompy.units.to_unit(Si_n.fermi_level(T), 'eV')\n",
    "Ef_p = fompy.units.to_unit(Si_p.fermi_level(T), 'eV')\n",
    "print(Ef_n)\n",
    "print(Ef_p)"
   ]
  },
  {
   "cell_type": "code",
   "execution_count": 9,
   "metadata": {},
   "outputs": [
    {
     "name": "stdout",
     "output_type": "stream",
     "text": [
      "0.9519854736328128\n"
     ]
    }
   ],
   "source": [
    "delta = Ef_n - Ef_p\n",
    "# delta_Ef = convert_eV_to_Joule(delta)\n",
    "print(delta)\n",
    "# print(delta_Ef) "
   ]
  },
  {
   "cell_type": "code",
   "execution_count": 10,
   "metadata": {},
   "outputs": [
    {
     "name": "stdout",
     "output_type": "stream",
     "text": [
      "1.9247996694604967e-07\n"
     ]
    }
   ],
   "source": [
    "_Na = Na*1e6 # в  СИ\n",
    "_Nd = Nd*1e6 # в СИ\n",
    "W = FomFunc.get_W(_Na, _Nd, eps, delta) # delta в eV??\n",
    "print(W)"
   ]
  },
  {
   "cell_type": "code",
   "execution_count": 11,
   "metadata": {},
   "outputs": [
    {
     "name": "stdout",
     "output_type": "stream",
     "text": [
      "2.2683981645019042e-07 4.536796329003809e-08 2.722077797402285e-07\n"
     ]
    }
   ],
   "source": [
    "Wp = FomFunc.get_Wp(_Na, _Nd, eps, delta)\n",
    "Wn = FomFunc.get_Wn(_Na, _Nd, eps, delta)\n",
    "print(Wp, Wn, Wn + Wp)"
   ]
  },
  {
   "cell_type": "code",
   "execution_count": 12,
   "metadata": {},
   "outputs": [
    {
     "name": "stdout",
     "output_type": "stream",
     "text": [
      "3.359639e+10\n",
      "0.056435885030358526\n",
      "0.011287177006071706\n"
     ]
    }
   ],
   "source": [
    "#_Eg = convert_eV_to_Joule(Eg)\n",
    "ni = FomFunc.get_ni(Nc, Nv, Eg, T)\n",
    "print(f'{ni:e}')\n",
    "\n",
    "np0 = FomFunc.get_np0(_Na, ni)\n",
    "print(np0)\n",
    "\n",
    "pn0 = FomFunc.get_pn0(_Nd, ni)\n",
    "print(pn0)"
   ]
  },
  {
   "cell_type": "code",
   "execution_count": 13,
   "metadata": {},
   "outputs": [],
   "source": [
    "alpha_p = 1e-2# 3e-3 # см\n",
    "alpha_n = 4*1e-2# 3e-2 # см\n",
    "\n",
    "_alpha_p = alpha_p*1e-2\n",
    "_alpha_n = alpha_n*1e-2\n",
    "\n",
    "tau_n = 5*1e-5# 1e-4    \n",
    "tau_p = 1e-5 # 1e-5"
   ]
  },
  {
   "cell_type": "code",
   "execution_count": 19,
   "metadata": {},
   "outputs": [
    {
     "name": "stdout",
     "output_type": "stream",
     "text": [
      "0.0036000000000000003 0.0012000000000000001\n",
      "0.0031999999999999997 0.001\n"
     ]
    }
   ],
   "source": [
    "Dn = 36*1e-4 # FomFunc.get_D(_alpha_n, tau_n)\n",
    "Dp = 12*1e-4 # FomFunc.get_D(_alpha_p, tau_p)\n",
    "\n",
    "print(Dn, Dp)\n",
    "print(FomFunc.get_D(_alpha_n, tau_n), FomFunc.get_D(_alpha_p, tau_p))"
   ]
  },
  {
   "cell_type": "code",
   "execution_count": 15,
   "metadata": {},
   "outputs": [
    {
     "name": "stdout",
     "output_type": "stream",
     "text": [
      "9.029741604857364e-26\n"
     ]
    }
   ],
   "source": [
    "S = 1*1e-6 # м**2\n",
    "J0 = FomFunc.get_J0(Dp, pn0, _alpha_p, Dn, np0, _alpha_n, S)\n",
    "print(J0)"
   ]
  },
  {
   "cell_type": "code",
   "execution_count": 16,
   "metadata": {},
   "outputs": [
    {
     "data": {
      "text/plain": [
       "[<matplotlib.lines.Line2D at 0x24a8169cee0>]"
      ]
     },
     "execution_count": 16,
     "metadata": {},
     "output_type": "execute_result"
    },
    {
     "data": {
      "image/png": "[encoded data removed]",
      "text/plain": [
       "<Figure size 432x288 with 1 Axes>"
      ]
     },
     "metadata": {
      "needs_background": "light"
     },
     "output_type": "display_data"
    }
   ],
   "source": [
    "U = np.linspace(0, 1.1, 100000)\n",
    "J = [J0*(np.exp(FomFunc.Constants.e*u/(FomFunc.Constants.k*T) - 1)) for u in U]\n",
    "plt.plot(U, J)"
   ]
  },
  {
   "cell_type": "code",
   "execution_count": 17,
   "metadata": {},
   "outputs": [
    {
     "name": "stdout",
     "output_type": "stream",
     "text": [
      "46.381139093531715\n"
     ]
    }
   ],
   "source": [
    "max_Power = 50\n",
    "for i in range(len(J)):\n",
    "    if J[i]*U[i] >= max_Power:\n",
    "        print(J[i])\n",
    "        break"
   ]
  },
  {
   "cell_type": "code",
   "execution_count": null,
   "metadata": {},
   "outputs": [],
   "source": []
  },
  {
   "cell_type": "code",
   "execution_count": null,
   "metadata": {},
   "outputs": [],
   "source": []
  }
 ],
 "metadata": {
  "kernelspec": {
   "display_name": "Python 3",
   "language": "python",
   "name": "python3"
  },
  "language_info": {
   "codemirror_mode": {
    "name": "ipython",
    "version": 3
   },
   "file_extension": ".py",
   "mimetype": "text/x-python",
   "name": "python",
   "nbconvert_exporter": "python",
   "pygments_lexer": "ipython3",
   "version": "3.10.3"
  },
  "orig_nbformat": 4,
  "vscode": {
   "interpreter": {
    "hash": "b4bdc8b6d7e4cad41bb05bc0e5d80002b83e761244174ed8e44a639e02848ea6"
   }
  }
 },
 "nbformat": 4,
 "nbformat_minor": 2
}
