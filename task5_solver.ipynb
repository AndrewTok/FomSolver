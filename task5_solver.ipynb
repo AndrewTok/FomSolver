{
 "cells": [
  {
   "cell_type": "code",
   "execution_count": 1,
   "id": "85fc7b0f",
   "metadata": {},
   "outputs": [],
   "source": [
    "import matplotlib.pyplot as plt\n",
    "import numpy as np"
   ]
  },
  {
   "cell_type": "code",
   "execution_count": 2,
   "id": "d9060425",
   "metadata": {},
   "outputs": [],
   "source": [
    "from fompy.units import *\n",
    "from fompy.constants import *\n",
    "from fompy.materials import *\n",
    "from fompy.models import *"
   ]
  },
  {
   "cell_type": "code",
   "execution_count": 3,
   "id": "b1cb01ac",
   "metadata": {},
   "outputs": [
    {
     "name": "stdout",
     "output_type": "stream",
     "text": [
      "2.26 11.1\n",
      "1.424 12.9\n"
     ]
    }
   ],
   "source": [
    "# GaP\n",
    "Eg1_theory = 2.26 # GaP# 2.82 # eV\n",
    "a1 = 5.67 * angstrom\n",
    "eps1 = 11.1 # 5.9\n",
    "print(Eg1_theory, eps1)\n",
    "# GaAs\n",
    "Eg2_theory =  to_unit(GaAs.Eg, 'eV') # 0.73 # eV\n",
    "a2 = 6.09 * angstrom\n",
    "eps2 = GaAs.eps # 14.4\n",
    "print(Eg2_theory, eps2)"
   ]
  },
  {
   "cell_type": "code",
   "execution_count": 4,
   "id": "84c6f5c0",
   "metadata": {},
   "outputs": [],
   "source": [
    "def getEgPractical(a, eps):\n",
    "    wp = np.sqrt(4 * np.pi * (32 / (a ** 3)) * (e ** 2) / me)\n",
    "    Eg = h_bar * wp / np.sqrt(eps - 1)\n",
    "    return Eg / eV"
   ]
  },
  {
   "cell_type": "code",
   "execution_count": 5,
   "id": "39bce862",
   "metadata": {},
   "outputs": [
    {
     "name": "stdout",
     "output_type": "stream",
     "text": [
      "Eg_prac1: 7.031928987081493 eV, Eg_prac2: 3.820047529813474 eV\n"
     ]
    }
   ],
   "source": [
    "Eg_prac1 = getEgPractical(a1, eps1)\n",
    "Eg_prac2 = getEgPractical(a2, eps2)\n",
    "print(f'Eg_prac1: {Eg_prac1} eV, Eg_prac2: {Eg_prac2} eV')"
   ]
  },
  {
   "cell_type": "code",
   "execution_count": 6,
   "id": "678f467d",
   "metadata": {},
   "outputs": [
    {
     "name": "stdout",
     "output_type": "stream",
     "text": [
      "Delta = 1.6059407286340093 eV\n"
     ]
    }
   ],
   "source": [
    "delta = abs(Eg_prac1 - Eg_prac2) / 2\n",
    "print(f'Delta = {delta} eV')"
   ]
  },
  {
   "cell_type": "code",
   "execution_count": 7,
   "id": "ab5b4b48",
   "metadata": {},
   "outputs": [],
   "source": [
    "# Energy spin-orbital splitting ioffee\n",
    "E_spin1 = 0.8 # eV\n",
    "E_spin2 = 0.8 # eV"
   ]
  },
  {
   "cell_type": "code",
   "execution_count": 8,
   "id": "f633f70e",
   "metadata": {},
   "outputs": [
    {
     "data": {
      "text/plain": [
       "0.4840592713659908"
      ]
     },
     "execution_count": 8,
     "metadata": {},
     "output_type": "execute_result"
    }
   ],
   "source": [
    "# fing gap\n",
    "\n",
    "gap = ((E_spin1 / 3) + Eg1_theory) - ((delta + (E_spin2 / 3) + Eg2_theory))\n",
    "\n",
    "gap"
   ]
  },
  {
   "cell_type": "code",
   "execution_count": 9,
   "id": "48c39778",
   "metadata": {},
   "outputs": [],
   "source": [
    "m = 0.041 * me\n",
    "u = -gap * eV\n",
    "a = 5 * unit('nm')\n",
    "b = 7 * unit('nm')\n",
    "\n",
    "solver = KronigPenneyModel(a, b, u)"
   ]
  },
  {
   "cell_type": "code",
   "execution_count": 10,
   "id": "371d44cb",
   "metadata": {},
   "outputs": [
    {
     "name": "stderr",
     "output_type": "stream",
     "text": [
      "C:\\Users\\Андрей\\AppData\\Local\\Temp\\ipykernel_404\\3556168357.py:4: DeprecationWarning: elementwise comparison failed; this will raise an error in the future.\n",
      "  Ka[1:-1][(Ka[0:2]==Ka[1:-1]) * (Ka[1:-1]==Ka[2:])] = None\n"
     ]
    },
    {
     "data": {
      "text/plain": [
       "[<matplotlib.lines.Line2D at 0x1e3c8918d90>]"
      ]
     },
     "execution_count": 10,
     "metadata": {},
     "output_type": "execute_result"
    },
    {
     "data": {
      "image/png": "[encoded data removed]",
      "text/plain": [
       "<Figure size 432x288 with 1 Axes>"
      ]
     },
     "metadata": {
      "needs_background": "light"
     },
     "output_type": "display_data"
    }
   ],
   "source": [
    "E = np.linspace(0, -0.8*u, 1001)\n",
    "Ka = solver.get_ks(E, m)\n",
    "\n",
    "Ka[1:-1][(Ka[0:2]==Ka[1:-1]) * (Ka[1:-1]==Ka[2:])] = None\n",
    "\n",
    "Ka[-1] = None\n",
    "\n",
    "plt.plot(np.append(Ka, -Ka), E.reshape(1, -1).repeat(2, axis=0).reshape(-1)/eV)"
   ]
  },
  {
   "cell_type": "code",
   "execution_count": null,
   "id": "650d2cd3",
   "metadata": {},
   "outputs": [],
   "source": []
  },
  {
   "cell_type": "code",
   "execution_count": null,
   "id": "591392ef",
   "metadata": {},
   "outputs": [],
   "source": []
  },
  {
   "cell_type": "code",
   "execution_count": null,
   "id": "f1c64384",
   "metadata": {},
   "outputs": [],
   "source": []
  },
  {
   "cell_type": "code",
   "execution_count": null,
   "id": "6a89cfd3",
   "metadata": {},
   "outputs": [],
   "source": []
  }
 ],
 "metadata": {
  "kernelspec": {
   "display_name": "Python 3",
   "language": "python",
   "name": "python3"
  },
  "language_info": {
   "codemirror_mode": {
    "name": "ipython",
    "version": 3
   },
   "file_extension": ".py",
   "mimetype": "text/x-python",
   "name": "python",
   "nbconvert_exporter": "python",
   "pygments_lexer": "ipython3",
   "version": "3.10.3"
  },
  "vscode": {
   "interpreter": {
    "hash": "b4bdc8b6d7e4cad41bb05bc0e5d80002b83e761244174ed8e44a639e02848ea6"
   }
  }
 },
 "nbformat": 4,
 "nbformat_minor": 5
}
